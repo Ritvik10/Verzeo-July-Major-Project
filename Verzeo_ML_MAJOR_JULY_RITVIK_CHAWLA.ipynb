{
  "nbformat": 4,
  "nbformat_minor": 0,
  "metadata": {
    "colab": {
      "name": "Verzeo-ML-MAJOR-JULY-RITVIK CHAWLA.ipynb",
      "provenance": [],
      "collapsed_sections": []
    },
    "kernelspec": {
      "name": "python3",
      "display_name": "Python 3"
    },
    "language_info": {
      "name": "python"
    }
  },
  "cells": [
    {
      "cell_type": "markdown",
      "metadata": {
        "id": "Ha9wdE3uyPN-"
      },
      "source": [
        "# **MACHINE LEARNING-VERZEO-JULY-MAJOR PROJECT**\n",
        "\n"
      ]
    },
    {
      "cell_type": "markdown",
      "metadata": {
        "id": "hj1KtK8OzidV"
      },
      "source": [
        "# **//Ritvik Chawla**"
      ]
    },
    {
      "cell_type": "code",
      "metadata": {
        "id": "4Bmywg_erulW"
      },
      "source": [
        "import numpy as np # linear algebra\n",
        "import pandas as pd # data processing, CSV file I/O (e.g. pd.read_csv)\n",
        "import matplotlib.pyplot as plt #for plotting "
      ],
      "execution_count": 1,
      "outputs": []
    },
    {
      "cell_type": "code",
      "metadata": {
        "id": "4lGJx9qBsgfq"
      },
      "source": [
        "#creating a dataframe in pandas\n",
        "df=pd.read_csv('/content/digit_svm.csv')"
      ],
      "execution_count": 2,
      "outputs": []
    },
    {
      "cell_type": "code",
      "metadata": {
        "id": "ijJP3TDKs8gh"
      },
      "source": [
        "#to drop null values\n",
        "df.dropna(inplace=True)\n"
      ],
      "execution_count": 29,
      "outputs": []
    },
    {
      "cell_type": "markdown",
      "metadata": {
        "id": "oqhpTGEOtNdG"
      },
      "source": [
        "## **Visualizing the digits**"
      ]
    },
    {
      "cell_type": "code",
      "metadata": {
        "id": "DgUP3OtPtTRD"
      },
      "source": [
        "y_label=df.iloc[:,0].values\n",
        "y_label\n",
        "x_label=df.iloc[:,1:785].values\n"
      ],
      "execution_count": 6,
      "outputs": []
    },
    {
      "cell_type": "code",
      "metadata": {
        "colab": {
          "base_uri": "https://localhost:8080/",
          "height": 292
        },
        "id": "WWXy_PsTtYZI",
        "outputId": "f6fce5dd-7ba5-46f9-8edb-e80aba7ad03f"
      },
      "source": [
        "plt.matshow(x_label[0].reshape(28,28))\n"
      ],
      "execution_count": 7,
      "outputs": [
        {
          "output_type": "execute_result",
          "data": {
            "text/plain": [
              "<matplotlib.image.AxesImage at 0x7f47a4ee9ad0>"
            ]
          },
          "metadata": {},
          "execution_count": 7
        },
        {
          "output_type": "display_data",
          "data": {
            "image/png": "[encoded data removed]",
            "text/plain": [
              "<Figure size 288x288 with 1 Axes>"
            ]
          },
          "metadata": {
            "needs_background": "light"
          }
        }
      ]
    },
    {
      "cell_type": "code",
      "metadata": {
        "id": "XfMEV3hqt0li"
      },
      "source": [
        "#setting a blueprint to analyze data and then using it to measure new data \n",
        "from sklearn.model_selection import train_test_split\n"
      ],
      "execution_count": 8,
      "outputs": []
    },
    {
      "cell_type": "code",
      "metadata": {
        "id": "t3e8g26-uH1e"
      },
      "source": [
        "x_train,x_test,y_train,y_test=train_test_split(x_label,y_label,test_size=0.2)"
      ],
      "execution_count": 10,
      "outputs": []
    },
    {
      "cell_type": "code",
      "metadata": {
        "colab": {
          "base_uri": "https://localhost:8080/"
        },
        "id": "O_RVk_c1uORA",
        "outputId": "c2810466-f47a-43ca-ba87-e1338da5c0dd"
      },
      "source": [
        "len(x_test)"
      ],
      "execution_count": 11,
      "outputs": [
        {
          "output_type": "execute_result",
          "data": {
            "text/plain": [
              "802"
            ]
          },
          "metadata": {},
          "execution_count": 11
        }
      ]
    },
    {
      "cell_type": "code",
      "metadata": {
        "id": "LNNrcQuiuS3o"
      },
      "source": [
        "from sklearn.linear_model import LogisticRegression\n",
        "model=LogisticRegression()"
      ],
      "execution_count": 12,
      "outputs": []
    },
    {
      "cell_type": "code",
      "metadata": {
        "colab": {
          "base_uri": "https://localhost:8080/"
        },
        "id": "XxA5Kc7hugLr",
        "outputId": "f01e19d4-dbcb-445d-cda3-b86e9b6e7aec"
      },
      "source": [
        "#fitting data\n",
        "model.fit(x_train,y_train)"
      ],
      "execution_count": 13,
      "outputs": [
        {
          "output_type": "stream",
          "name": "stderr",
          "text": [
            "/usr/local/lib/python3.7/dist-packages/sklearn/linear_model/_logistic.py:940: ConvergenceWarning: lbfgs failed to converge (status=1):\n",
            "STOP: TOTAL NO. of ITERATIONS REACHED LIMIT.\n",
            "\n",
            "Increase the number of iterations (max_iter) or scale the data as shown in:\n",
            "    https://scikit-learn.org/stable/modules/preprocessing.html\n",
            "Please also refer to the documentation for alternative solver options:\n",
            "    https://scikit-learn.org/stable/modules/linear_model.html#logistic-regression\n",
            "  extra_warning_msg=_LOGISTIC_SOLVER_CONVERGENCE_MSG)\n"
          ]
        },
        {
          "output_type": "execute_result",
          "data": {
            "text/plain": [
              "LogisticRegression(C=1.0, class_weight=None, dual=False, fit_intercept=True,\n",
              "                   intercept_scaling=1, l1_ratio=None, max_iter=100,\n",
              "                   multi_class='auto', n_jobs=None, penalty='l2',\n",
              "                   random_state=None, solver='lbfgs', tol=0.0001, verbose=0,\n",
              "                   warm_start=False)"
            ]
          },
          "metadata": {},
          "execution_count": 13
        }
      ]
    },
    {
      "cell_type": "code",
      "metadata": {
        "colab": {
          "base_uri": "https://localhost:8080/"
        },
        "id": "dhApqGS8uvsc",
        "outputId": "925c3b2c-779f-4256-ad4a-ad55c404dadd"
      },
      "source": [
        "model.score(x_test,y_test)"
      ],
      "execution_count": 14,
      "outputs": [
        {
          "output_type": "execute_result",
          "data": {
            "text/plain": [
              "0.8690773067331671"
            ]
          },
          "metadata": {},
          "execution_count": 14
        }
      ]
    },
    {
      "cell_type": "code",
      "metadata": {
        "colab": {
          "base_uri": "https://localhost:8080/"
        },
        "id": "LVf7CaETuzP8",
        "outputId": "78d99d44-904c-40d9-a02f-4ccd2af3bc82"
      },
      "source": [
        "y_pred=model.predict(x_test)\n",
        "y_pred"
      ],
      "execution_count": 15,
      "outputs": [
        {
          "output_type": "execute_result",
          "data": {
            "text/plain": [
              "array([1, 4, 3, 7, 4, 5, 3, 5, 5, 0, 8, 0, 5, 3, 9, 9, 9, 5, 7, 3, 2, 0,\n",
              "       5, 2, 5, 5, 5, 3, 2, 9, 0, 6, 4, 3, 0, 9, 6, 2, 3, 8, 6, 4, 5, 3,\n",
              "       2, 2, 4, 2, 8, 7, 8, 4, 8, 3, 7, 1, 5, 6, 7, 9, 2, 9, 3, 1, 4, 9,\n",
              "       7, 6, 4, 5, 7, 4, 7, 0, 1, 9, 5, 6, 2, 4, 5, 3, 0, 6, 7, 6, 0, 0,\n",
              "       7, 5, 2, 9, 4, 2, 0, 2, 1, 6, 6, 8, 5, 6, 5, 5, 7, 5, 3, 7, 8, 2,\n",
              "       9, 3, 1, 9, 1, 6, 4, 3, 2, 1, 4, 2, 1, 6, 8, 1, 2, 4, 3, 8, 0, 8,\n",
              "       9, 5, 8, 0, 3, 1, 3, 1, 0, 4, 1, 5, 7, 1, 6, 6, 3, 2, 1, 0, 7, 6,\n",
              "       2, 3, 1, 5, 7, 8, 9, 6, 8, 8, 1, 1, 0, 9, 5, 2, 4, 5, 5, 7, 4, 5,\n",
              "       2, 3, 4, 7, 7, 5, 2, 0, 4, 5, 7, 9, 0, 9, 3, 7, 1, 2, 7, 3, 6, 5,\n",
              "       4, 4, 4, 0, 9, 1, 6, 5, 8, 1, 0, 7, 3, 4, 8, 3, 0, 9, 6, 8, 7, 5,\n",
              "       1, 3, 2, 7, 2, 1, 0, 6, 9, 1, 9, 3, 6, 7, 1, 1, 1, 1, 1, 0, 4, 5,\n",
              "       4, 6, 5, 1, 3, 3, 5, 7, 1, 7, 7, 7, 4, 9, 5, 9, 8, 9, 6, 4, 4, 4,\n",
              "       1, 7, 2, 4, 3, 1, 3, 3, 9, 2, 5, 3, 9, 0, 5, 7, 2, 6, 6, 0, 3, 5,\n",
              "       3, 9, 2, 5, 1, 4, 2, 8, 8, 8, 1, 2, 8, 0, 8, 2, 4, 6, 7, 9, 7, 2,\n",
              "       4, 9, 7, 3, 6, 9, 2, 5, 5, 5, 1, 5, 1, 6, 1, 7, 1, 9, 3, 1, 9, 0,\n",
              "       6, 3, 7, 0, 7, 6, 5, 7, 3, 5, 3, 1, 6, 7, 8, 3, 8, 6, 0, 1, 8, 2,\n",
              "       7, 2, 3, 7, 2, 4, 6, 9, 1, 6, 0, 5, 6, 7, 0, 6, 4, 9, 6, 5, 3, 9,\n",
              "       9, 0, 7, 1, 9, 0, 5, 4, 1, 5, 1, 9, 1, 2, 5, 9, 0, 8, 2, 7, 6, 6,\n",
              "       5, 9, 0, 1, 8, 3, 8, 5, 2, 2, 8, 2, 3, 6, 1, 1, 3, 6, 7, 7, 3, 2,\n",
              "       8, 6, 9, 7, 1, 2, 3, 7, 7, 7, 0, 7, 0, 2, 4, 3, 9, 1, 0, 8, 3, 6,\n",
              "       2, 3, 2, 8, 8, 0, 0, 5, 0, 4, 9, 7, 4, 8, 6, 2, 4, 9, 3, 3, 1, 5,\n",
              "       7, 4, 3, 4, 5, 4, 9, 8, 9, 8, 4, 9, 5, 7, 0, 9, 9, 6, 1, 0, 0, 9,\n",
              "       7, 9, 9, 7, 3, 2, 0, 4, 8, 8, 9, 2, 7, 5, 9, 0, 8, 9, 5, 8, 0, 2,\n",
              "       2, 9, 7, 8, 0, 0, 3, 8, 2, 3, 9, 6, 2, 0, 2, 4, 1, 1, 3, 3, 4, 9,\n",
              "       4, 1, 8, 7, 0, 2, 1, 7, 3, 9, 3, 2, 1, 2, 7, 7, 7, 7, 1, 4, 6, 8,\n",
              "       2, 5, 3, 2, 6, 6, 7, 6, 4, 7, 5, 8, 4, 5, 0, 7, 3, 2, 8, 3, 8, 4,\n",
              "       0, 5, 2, 4, 2, 8, 4, 6, 7, 2, 9, 7, 4, 8, 5, 6, 2, 0, 5, 7, 2, 7,\n",
              "       4, 5, 4, 9, 9, 9, 1, 2, 2, 4, 0, 6, 5, 4, 2, 0, 7, 5, 8, 1, 3, 4,\n",
              "       0, 1, 7, 5, 5, 2, 9, 1, 2, 0, 5, 2, 4, 7, 5, 0, 5, 0, 2, 1, 8, 1,\n",
              "       0, 8, 3, 2, 3, 6, 1, 8, 1, 6, 3, 1, 6, 2, 4, 5, 7, 7, 5, 5, 0, 6,\n",
              "       4, 3, 6, 5, 1, 6, 4, 4, 8, 9, 7, 6, 9, 6, 1, 2, 3, 6, 7, 9, 6, 3,\n",
              "       0, 9, 9, 3, 9, 1, 2, 9, 6, 9, 6, 5, 1, 8, 9, 1, 0, 2, 7, 8, 2, 1,\n",
              "       2, 2, 1, 1, 9, 2, 1, 6, 0, 5, 7, 1, 6, 7, 3, 1, 6, 6, 9, 8, 8, 7,\n",
              "       9, 3, 3, 8, 5, 6, 6, 2, 1, 6, 5, 2, 7, 7, 3, 5, 0, 4, 7, 4, 4, 8,\n",
              "       2, 0, 0, 4, 7, 6, 3, 8, 8, 4, 2, 9, 2, 8, 7, 9, 1, 8, 0, 7, 8, 9,\n",
              "       5, 8, 7, 4, 0, 7, 2, 2, 1, 6, 2, 3, 5, 8, 2, 6, 8, 2, 1, 0, 0, 1,\n",
              "       8, 3, 5, 6, 7, 8, 1, 6, 4, 9])"
            ]
          },
          "metadata": {},
          "execution_count": 15
        }
      ]
    },
    {
      "cell_type": "code",
      "metadata": {
        "colab": {
          "base_uri": "https://localhost:8080/"
        },
        "id": "Zp4tiZwMu5ZA",
        "outputId": "9c64fc27-c5da-4608-a628-2aec3d9172db"
      },
      "source": [
        "y_test"
      ],
      "execution_count": 16,
      "outputs": [
        {
          "output_type": "execute_result",
          "data": {
            "text/plain": [
              "array([1, 4, 3, 7, 4, 5, 3, 8, 5, 0, 2, 0, 8, 3, 9, 9, 8, 9, 7, 3, 2, 0,\n",
              "       5, 2, 5, 8, 5, 3, 2, 9, 0, 6, 4, 5, 0, 9, 6, 2, 3, 8, 6, 4, 5, 3,\n",
              "       2, 2, 4, 2, 8, 7, 8, 4, 3, 3, 7, 1, 5, 6, 7, 9, 2, 9, 3, 1, 4, 9,\n",
              "       7, 6, 0, 5, 7, 4, 7, 0, 1, 9, 0, 6, 2, 7, 8, 3, 0, 6, 7, 6, 0, 0,\n",
              "       7, 5, 2, 3, 4, 2, 0, 2, 1, 1, 6, 3, 1, 6, 6, 5, 7, 5, 8, 7, 8, 2,\n",
              "       9, 3, 1, 9, 1, 6, 4, 3, 2, 1, 4, 2, 1, 6, 8, 1, 2, 4, 3, 2, 0, 8,\n",
              "       9, 8, 8, 0, 3, 1, 3, 1, 0, 4, 1, 8, 7, 1, 6, 6, 3, 2, 1, 0, 7, 6,\n",
              "       2, 3, 1, 5, 7, 8, 7, 6, 8, 8, 1, 1, 0, 9, 5, 2, 8, 8, 5, 7, 4, 5,\n",
              "       2, 3, 4, 7, 7, 8, 2, 0, 4, 5, 7, 9, 0, 9, 3, 7, 1, 8, 7, 3, 6, 5,\n",
              "       4, 5, 4, 0, 9, 1, 6, 5, 8, 1, 0, 7, 3, 4, 8, 3, 0, 9, 6, 8, 7, 5,\n",
              "       1, 3, 2, 7, 2, 1, 0, 6, 9, 1, 9, 3, 6, 7, 1, 1, 1, 1, 1, 0, 4, 5,\n",
              "       4, 6, 8, 1, 3, 3, 3, 7, 1, 7, 7, 7, 4, 9, 5, 9, 8, 4, 6, 4, 4, 4,\n",
              "       1, 7, 3, 4, 3, 1, 3, 3, 9, 2, 5, 3, 9, 0, 5, 7, 2, 6, 4, 0, 3, 6,\n",
              "       3, 9, 2, 5, 1, 4, 2, 8, 4, 8, 1, 2, 8, 0, 8, 2, 4, 6, 7, 9, 7, 2,\n",
              "       4, 9, 7, 3, 6, 9, 2, 5, 1, 0, 1, 5, 8, 6, 1, 9, 3, 9, 2, 1, 9, 0,\n",
              "       6, 3, 7, 0, 7, 6, 5, 7, 3, 5, 3, 1, 5, 7, 8, 8, 8, 6, 0, 1, 8, 3,\n",
              "       7, 2, 3, 7, 2, 4, 6, 9, 1, 6, 0, 5, 6, 9, 0, 6, 4, 9, 6, 5, 3, 9,\n",
              "       9, 0, 9, 1, 9, 0, 1, 4, 1, 5, 1, 5, 1, 2, 8, 9, 0, 8, 2, 7, 6, 6,\n",
              "       5, 9, 0, 1, 8, 3, 8, 5, 6, 2, 8, 2, 3, 6, 1, 2, 7, 6, 7, 7, 3, 6,\n",
              "       8, 6, 3, 2, 1, 2, 3, 7, 7, 9, 0, 7, 0, 2, 4, 3, 9, 3, 0, 8, 3, 6,\n",
              "       2, 5, 5, 8, 8, 0, 0, 5, 0, 4, 9, 7, 4, 8, 6, 2, 4, 9, 3, 3, 3, 1,\n",
              "       7, 4, 3, 4, 5, 4, 9, 8, 9, 8, 4, 9, 5, 7, 0, 9, 0, 6, 1, 0, 0, 9,\n",
              "       7, 9, 9, 7, 3, 2, 0, 4, 8, 8, 9, 2, 7, 8, 9, 0, 8, 9, 5, 5, 0, 2,\n",
              "       7, 9, 7, 8, 0, 0, 3, 8, 2, 3, 9, 0, 2, 0, 2, 4, 8, 8, 8, 5, 4, 8,\n",
              "       4, 1, 8, 7, 0, 2, 1, 7, 3, 9, 5, 2, 1, 2, 7, 7, 7, 7, 1, 4, 6, 8,\n",
              "       2, 5, 3, 2, 6, 6, 7, 6, 4, 7, 8, 8, 4, 5, 0, 7, 3, 6, 8, 3, 8, 4,\n",
              "       0, 5, 2, 4, 2, 8, 4, 6, 7, 2, 3, 7, 4, 8, 5, 6, 2, 0, 5, 7, 2, 7,\n",
              "       4, 5, 4, 9, 5, 9, 1, 2, 5, 4, 0, 6, 5, 4, 2, 0, 7, 5, 0, 1, 3, 2,\n",
              "       0, 1, 7, 5, 5, 2, 9, 1, 2, 0, 5, 3, 4, 7, 5, 0, 5, 0, 5, 1, 9, 1,\n",
              "       0, 8, 3, 6, 3, 6, 1, 8, 8, 6, 3, 1, 6, 2, 4, 5, 7, 7, 5, 5, 0, 6,\n",
              "       2, 3, 6, 3, 1, 6, 4, 4, 8, 1, 7, 6, 9, 6, 1, 2, 8, 6, 6, 9, 0, 3,\n",
              "       0, 9, 9, 3, 4, 1, 2, 2, 6, 9, 6, 5, 1, 8, 7, 1, 0, 6, 7, 8, 2, 1,\n",
              "       8, 2, 1, 1, 9, 2, 1, 6, 0, 0, 9, 1, 6, 7, 3, 1, 6, 6, 9, 8, 8, 6,\n",
              "       9, 2, 3, 8, 5, 6, 6, 2, 1, 6, 5, 2, 7, 7, 3, 8, 0, 4, 7, 6, 4, 8,\n",
              "       2, 0, 0, 8, 7, 6, 3, 8, 8, 4, 2, 9, 2, 8, 7, 9, 1, 8, 0, 7, 8, 9,\n",
              "       5, 8, 7, 4, 0, 7, 2, 2, 8, 6, 2, 3, 5, 8, 6, 6, 0, 2, 1, 0, 0, 1,\n",
              "       8, 3, 2, 6, 7, 8, 1, 6, 4, 9])"
            ]
          },
          "metadata": {},
          "execution_count": 16
        }
      ]
    },
    {
      "cell_type": "code",
      "metadata": {
        "id": "D4fDwmpGu9aR"
      },
      "source": [
        "#to check accuracy and performance\n",
        "from sklearn.metrics import accuracy_score,confusion_matrix"
      ],
      "execution_count": 17,
      "outputs": []
    },
    {
      "cell_type": "code",
      "metadata": {
        "colab": {
          "base_uri": "https://localhost:8080/"
        },
        "id": "N2xjQqk_vTfA",
        "outputId": "dfd59296-6707-40a2-ab64-2ec03daf9680"
      },
      "source": [
        "accuracy_score(y_test,y_pred)"
      ],
      "execution_count": 18,
      "outputs": [
        {
          "output_type": "execute_result",
          "data": {
            "text/plain": [
              "0.8690773067331671"
            ]
          },
          "metadata": {},
          "execution_count": 18
        }
      ]
    },
    {
      "cell_type": "code",
      "metadata": {
        "colab": {
          "base_uri": "https://localhost:8080/"
        },
        "id": "peEjejkovWBS",
        "outputId": "86e44420-6520-4ef4-f607-94bcd0733c66"
      },
      "source": [
        "confusion_matrix(y_test,y_pred)"
      ],
      "execution_count": 19,
      "outputs": [
        {
          "output_type": "execute_result",
          "data": {
            "text/plain": [
              "array([[71,  0,  0,  0,  1,  3,  2,  0,  2,  1],\n",
              "       [ 0, 77,  0,  0,  0,  4,  1,  0,  0,  1],\n",
              "       [ 0,  1, 76,  2,  2,  1,  0,  1,  2,  1],\n",
              "       [ 0,  3,  3, 67,  0,  2,  0,  0,  2,  3],\n",
              "       [ 0,  0,  0,  0, 64,  0,  1,  0,  1,  2],\n",
              "       [ 0,  0,  3,  4,  1, 58,  1,  0,  1,  2],\n",
              "       [ 0,  0,  6,  0,  1,  2, 73,  2,  0,  0],\n",
              "       [ 0,  0,  1,  1,  1,  0,  0, 83,  0,  2],\n",
              "       [ 0,  5,  2,  4,  2, 13,  0,  0, 62,  2],\n",
              "       [ 0,  0,  0,  0,  0,  1,  0,  5,  1, 66]])"
            ]
          },
          "metadata": {},
          "execution_count": 19
        }
      ]
    },
    {
      "cell_type": "code",
      "metadata": {
        "colab": {
          "base_uri": "https://localhost:8080/"
        },
        "id": "mmB8K9jivjUA",
        "outputId": "2326eea7-1eb2-408f-b56b-055729a87bc0"
      },
      "source": [
        "model.predict(x_label[0:5])"
      ],
      "execution_count": 20,
      "outputs": [
        {
          "output_type": "execute_result",
          "data": {
            "text/plain": [
              "array([1, 0, 1, 4, 0])"
            ]
          },
          "metadata": {},
          "execution_count": 20
        }
      ]
    },
    {
      "cell_type": "code",
      "metadata": {
        "colab": {
          "base_uri": "https://localhost:8080/"
        },
        "id": "fK8XQV7Bvl67",
        "outputId": "9bde169b-6de3-41e1-9e55-19483ae46c6f"
      },
      "source": [
        "y_label[0:5]"
      ],
      "execution_count": 21,
      "outputs": [
        {
          "output_type": "execute_result",
          "data": {
            "text/plain": [
              "array([1, 0, 1, 4, 0])"
            ]
          },
          "metadata": {},
          "execution_count": 21
        }
      ]
    },
    {
      "cell_type": "markdown",
      "metadata": {
        "id": "DKqig3gTvubV"
      },
      "source": [
        "# **SVM Algorithm //Works the best**"
      ]
    },
    {
      "cell_type": "code",
      "metadata": {
        "id": "_Zh6nrZgv-ig"
      },
      "source": [
        "from sklearn.svm import SVC"
      ],
      "execution_count": 22,
      "outputs": []
    },
    {
      "cell_type": "code",
      "metadata": {
        "id": "h7ENGbDUwdGe"
      },
      "source": [
        "newModel=SVC()"
      ],
      "execution_count": 23,
      "outputs": []
    },
    {
      "cell_type": "code",
      "metadata": {
        "colab": {
          "base_uri": "https://localhost:8080/"
        },
        "id": "J2Tdr5z9whSY",
        "outputId": "8945bc96-c26f-49b4-f355-6abf8ce2fccf"
      },
      "source": [
        "newModel.fit(x_train,y_train)"
      ],
      "execution_count": 24,
      "outputs": [
        {
          "output_type": "execute_result",
          "data": {
            "text/plain": [
              "SVC(C=1.0, break_ties=False, cache_size=200, class_weight=None, coef0=0.0,\n",
              "    decision_function_shape='ovr', degree=3, gamma='scale', kernel='rbf',\n",
              "    max_iter=-1, probability=False, random_state=None, shrinking=True,\n",
              "    tol=0.001, verbose=False)"
            ]
          },
          "metadata": {},
          "execution_count": 24
        }
      ]
    },
    {
      "cell_type": "code",
      "metadata": {
        "colab": {
          "base_uri": "https://localhost:8080/"
        },
        "id": "Mvw6QfGkwkNq",
        "outputId": "00065a37-c734-4906-da58-150d1a0b2a9b"
      },
      "source": [
        "newModel.score(x_test,y_test)"
      ],
      "execution_count": 25,
      "outputs": [
        {
          "output_type": "execute_result",
          "data": {
            "text/plain": [
              "0.9364089775561097"
            ]
          },
          "metadata": {},
          "execution_count": 25
        }
      ]
    },
    {
      "cell_type": "code",
      "metadata": {
        "colab": {
          "base_uri": "https://localhost:8080/"
        },
        "id": "r3MiuiyowoAE",
        "outputId": "e2183482-d234-4175-ccbc-413c4b655745"
      },
      "source": [
        "y_pred=newModel.predict(x_test)\n",
        "y_pred"
      ],
      "execution_count": 26,
      "outputs": [
        {
          "output_type": "execute_result",
          "data": {
            "text/plain": [
              "array([1, 4, 3, 7, 4, 5, 5, 8, 5, 0, 8, 0, 8, 3, 9, 9, 8, 9, 7, 2, 2, 0,\n",
              "       5, 2, 5, 8, 5, 3, 2, 9, 0, 6, 4, 5, 0, 9, 6, 2, 3, 8, 6, 4, 5, 3,\n",
              "       2, 2, 4, 2, 8, 7, 8, 4, 3, 3, 9, 1, 5, 6, 7, 9, 2, 9, 3, 1, 4, 9,\n",
              "       7, 6, 6, 5, 7, 4, 7, 0, 1, 9, 0, 6, 2, 4, 8, 1, 0, 6, 7, 6, 0, 0,\n",
              "       7, 5, 2, 9, 4, 2, 0, 2, 1, 6, 6, 2, 5, 6, 6, 5, 7, 5, 8, 7, 8, 2,\n",
              "       9, 3, 1, 9, 1, 6, 4, 3, 2, 1, 4, 2, 1, 6, 8, 1, 2, 4, 3, 3, 0, 8,\n",
              "       9, 8, 8, 0, 3, 1, 3, 1, 0, 4, 1, 8, 7, 1, 6, 6, 3, 2, 1, 0, 7, 6,\n",
              "       2, 3, 1, 5, 7, 8, 7, 6, 8, 8, 1, 1, 0, 9, 5, 2, 4, 8, 5, 7, 4, 5,\n",
              "       2, 3, 4, 7, 7, 5, 2, 0, 4, 5, 7, 9, 0, 9, 3, 7, 1, 2, 7, 3, 6, 5,\n",
              "       4, 9, 4, 0, 9, 1, 6, 5, 8, 1, 0, 7, 3, 4, 8, 3, 0, 9, 6, 8, 7, 5,\n",
              "       1, 3, 2, 7, 2, 1, 0, 6, 9, 1, 9, 3, 6, 7, 1, 1, 1, 1, 1, 0, 4, 5,\n",
              "       4, 4, 8, 1, 3, 3, 3, 7, 1, 7, 7, 7, 4, 9, 5, 9, 8, 4, 6, 4, 4, 4,\n",
              "       1, 7, 3, 4, 3, 1, 3, 3, 9, 2, 5, 3, 9, 0, 5, 7, 2, 6, 6, 0, 3, 6,\n",
              "       3, 9, 2, 5, 1, 4, 2, 8, 4, 8, 1, 2, 8, 0, 8, 2, 4, 6, 7, 9, 7, 2,\n",
              "       4, 9, 2, 3, 6, 9, 2, 5, 1, 0, 1, 5, 8, 6, 1, 4, 1, 9, 2, 1, 9, 0,\n",
              "       6, 3, 7, 0, 7, 6, 5, 7, 3, 5, 3, 1, 5, 7, 8, 8, 8, 6, 0, 1, 8, 3,\n",
              "       7, 2, 3, 7, 2, 4, 6, 9, 1, 6, 0, 8, 6, 7, 0, 6, 4, 9, 6, 5, 3, 9,\n",
              "       9, 0, 9, 1, 9, 0, 1, 4, 1, 5, 1, 5, 1, 2, 8, 9, 0, 8, 2, 7, 6, 6,\n",
              "       5, 9, 0, 1, 8, 3, 8, 5, 6, 2, 8, 2, 3, 6, 1, 1, 9, 6, 7, 7, 3, 6,\n",
              "       8, 6, 9, 2, 1, 2, 3, 7, 7, 9, 0, 7, 0, 2, 4, 3, 9, 3, 0, 8, 3, 6,\n",
              "       2, 5, 5, 8, 8, 0, 0, 5, 0, 4, 9, 7, 4, 8, 6, 2, 4, 9, 3, 3, 3, 1,\n",
              "       7, 4, 3, 4, 5, 4, 9, 8, 9, 8, 4, 9, 5, 7, 0, 9, 0, 6, 1, 0, 0, 9,\n",
              "       7, 9, 9, 7, 3, 2, 0, 4, 8, 8, 9, 2, 7, 5, 9, 0, 8, 9, 5, 5, 0, 2,\n",
              "       7, 9, 7, 8, 0, 0, 3, 8, 2, 3, 9, 6, 2, 0, 2, 4, 8, 8, 8, 5, 4, 8,\n",
              "       4, 1, 8, 7, 0, 2, 1, 7, 3, 9, 5, 2, 1, 2, 7, 7, 7, 7, 1, 4, 6, 8,\n",
              "       3, 5, 3, 2, 6, 6, 7, 6, 4, 7, 6, 8, 4, 5, 0, 7, 3, 2, 8, 3, 8, 4,\n",
              "       0, 5, 2, 4, 2, 8, 4, 6, 7, 2, 8, 7, 4, 8, 5, 6, 2, 0, 5, 7, 2, 7,\n",
              "       4, 5, 4, 4, 0, 9, 1, 2, 2, 4, 0, 6, 5, 4, 2, 0, 7, 5, 6, 1, 3, 2,\n",
              "       0, 1, 7, 5, 5, 2, 9, 1, 2, 0, 5, 8, 4, 7, 5, 0, 5, 0, 5, 1, 3, 1,\n",
              "       0, 8, 3, 6, 3, 6, 1, 8, 8, 6, 3, 1, 6, 2, 4, 5, 7, 7, 5, 5, 0, 6,\n",
              "       4, 3, 6, 3, 1, 6, 4, 9, 8, 7, 7, 6, 9, 6, 1, 2, 1, 6, 6, 9, 0, 3,\n",
              "       0, 8, 9, 3, 4, 1, 2, 4, 6, 9, 6, 5, 1, 8, 7, 1, 0, 6, 7, 8, 2, 1,\n",
              "       2, 2, 1, 1, 9, 2, 1, 6, 0, 0, 7, 1, 6, 7, 3, 1, 6, 6, 9, 8, 8, 6,\n",
              "       7, 2, 3, 8, 5, 6, 6, 2, 1, 6, 5, 2, 7, 7, 3, 8, 0, 4, 7, 6, 4, 8,\n",
              "       8, 0, 0, 8, 7, 6, 3, 8, 8, 4, 2, 9, 2, 8, 7, 7, 1, 8, 0, 7, 8, 9,\n",
              "       5, 8, 7, 4, 0, 7, 2, 2, 1, 6, 2, 3, 5, 8, 6, 6, 0, 2, 1, 0, 0, 1,\n",
              "       8, 3, 6, 6, 7, 8, 1, 6, 4, 9])"
            ]
          },
          "metadata": {},
          "execution_count": 26
        }
      ]
    },
    {
      "cell_type": "code",
      "metadata": {
        "colab": {
          "base_uri": "https://localhost:8080/"
        },
        "id": "woIuLseaxTMl",
        "outputId": "78323c5f-3fcd-46ef-f168-250df1820e18"
      },
      "source": [
        "accuracy_score(y_test,y_pred)"
      ],
      "execution_count": 27,
      "outputs": [
        {
          "output_type": "execute_result",
          "data": {
            "text/plain": [
              "0.9364089775561097"
            ]
          },
          "metadata": {},
          "execution_count": 27
        }
      ]
    },
    {
      "cell_type": "code",
      "metadata": {
        "colab": {
          "base_uri": "https://localhost:8080/"
        },
        "id": "5ZhXiKP6xWrz",
        "outputId": "98282c93-efb5-4e11-a65b-6b43b31bfcd1"
      },
      "source": [
        "confusion_matrix(y_test,y_pred)"
      ],
      "execution_count": 28,
      "outputs": [
        {
          "output_type": "execute_result",
          "data": {
            "text/plain": [
              "array([[77,  0,  0,  0,  0,  0,  3,  0,  0,  0],\n",
              "       [ 0, 80,  0,  0,  0,  1,  1,  1,  0,  0],\n",
              "       [ 0,  1, 78,  2,  2,  0,  1,  0,  2,  0],\n",
              "       [ 0,  2,  2, 71,  0,  1,  0,  0,  2,  2],\n",
              "       [ 0,  0,  0,  0, 66,  0,  1,  0,  0,  1],\n",
              "       [ 1,  0,  1,  0,  0, 66,  0,  0,  1,  1],\n",
              "       [ 0,  0,  1,  0,  1,  0, 82,  0,  0,  0],\n",
              "       [ 0,  0,  1,  0,  1,  0,  0, 84,  0,  2],\n",
              "       [ 0,  2,  2,  0,  1,  2,  1,  0, 82,  0],\n",
              "       [ 0,  0,  0,  1,  2,  0,  0,  4,  1, 65]])"
            ]
          },
          "metadata": {},
          "execution_count": 28
        }
      ]
    }
  ]
}